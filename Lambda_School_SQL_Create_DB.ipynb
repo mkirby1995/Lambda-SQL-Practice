{
  "nbformat": 4,
  "nbformat_minor": 0,
  "metadata": {
    "colab": {
      "name": "Lambda School SQL Create DB.ipynb",
      "provenance": [],
      "collapsed_sections": [
        "EmXYvU-wWsB4",
        "XqAbq2bRWlpS",
        "Jzyau9u7WdVF",
        "hMeLLK7BWRTV",
        "-pXQxPPjWMpS",
        "-AdiLeXwWDzR",
        "PkkNTdRpV4Hc",
        "NwtmuZBYHfMd"
      ],
      "include_colab_link": true
    },
    "kernelspec": {
      "name": "python3",
      "display_name": "Python 3"
    }
  },
  "cells": [
    {
      "cell_type": "markdown",
      "metadata": {
        "id": "view-in-github",
        "colab_type": "text"
      },
      "source": [
        "<a href=\"https://colab.research.google.com/github/mkirby1995/Lambda-SQL-Practice/blob/master/Lambda_School_SQL_Create_DB.ipynb\" target=\"_parent\"><img src=\"https://colab.research.google.com/assets/colab-badge.svg\" alt=\"Open In Colab\"/></a>"
      ]
    },
    {
      "cell_type": "code",
      "metadata": {
        "id": "EBzByqSmI6p8",
        "colab_type": "code",
        "outputId": "c2d39a7a-f886-4c6a-d5b6-efa24851364f",
        "colab": {
          "base_uri": "https://localhost:8080/",
          "height": 35
        }
      },
      "source": [
        "!pip install psycopg2"
      ],
      "execution_count": 1,
      "outputs": [
        {
          "output_type": "stream",
          "text": [
            "Requirement already satisfied: psycopg2 in /usr/local/lib/python3.6/dist-packages (2.7.6.1)\n"
          ],
          "name": "stdout"
        }
      ]
    },
    {
      "cell_type": "code",
      "metadata": {
        "id": "lbsl1R9PH5Pl",
        "colab_type": "code",
        "outputId": "4f932dba-20f3-4566-d3ca-e519d27daae9",
        "colab": {
          "base_uri": "https://localhost:8080/",
          "height": 73
        }
      },
      "source": [
        "import pandas as pd\n",
        "import numpy as np\n",
        "\n",
        "import psycopg2\n",
        "import sqlite3\n",
        "from sqlalchemy import create_engine"
      ],
      "execution_count": 2,
      "outputs": [
        {
          "output_type": "stream",
          "text": [
            "/usr/local/lib/python3.6/dist-packages/psycopg2/__init__.py:144: UserWarning: The psycopg2 wheel package will be renamed from release 2.8; in order to keep installing from binary please use \"pip install psycopg2-binary\" instead. For details see: <http://initd.org/psycopg/docs/install.html#binary-install-from-pypi>.\n",
            "  \"\"\")\n"
          ],
          "name": "stderr"
        }
      ]
    },
    {
      "cell_type": "code",
      "metadata": {
        "id": "_4ZH10BbjG5u",
        "colab_type": "code",
        "outputId": "56979553-e938-4607-ef33-85e75ee7eb79",
        "colab": {
          "base_uri": "https://localhost:8080/",
          "height": 35
        }
      },
      "source": [
        "sqlite3.sqlite_version"
      ],
      "execution_count": 3,
      "outputs": [
        {
          "output_type": "execute_result",
          "data": {
            "text/plain": [
              "'3.22.0'"
            ]
          },
          "metadata": {
            "tags": []
          },
          "execution_count": 3
        }
      ]
    },
    {
      "cell_type": "markdown",
      "metadata": {
        "id": "_8aJEx1nIyRw",
        "colab_type": "text"
      },
      "source": [
        "# Write SQL Helper Classes"
      ]
    },
    {
      "cell_type": "code",
      "metadata": {
        "id": "-U145XzYsgsa",
        "colab_type": "code",
        "colab": {}
      },
      "source": [
        "class Sqllite_helper:\n",
        "\n",
        "    def __init__(self):\n",
        "        self.conn = sqlite3.connect(\"\"\"/content/lambda_challenge_db.sqlite3\"\"\")\n",
        "\n",
        "\n",
        "    def create_table(self, schema, dataframe, table_name):\n",
        "        curs = self.conn.cursor()\n",
        "        curs.execute(schema)\n",
        "\n",
        "        def force_type(x):\n",
        "            if type(x) != str:\n",
        "                return str(x)\n",
        "            else:\n",
        "              return x\n",
        "\n",
        "        values_to_insert = []\n",
        "\n",
        "        for i in dataframe.values:\n",
        "            i = i.tolist()\n",
        "            i = map(force_type, i)\n",
        "            values_to_insert.append('(' + ', '.join(i) + ')')\n",
        "\n",
        "        for row in values_to_insert:\n",
        "            inset_statement = \"INSERT INTO \" + table_name + ' VALUES' + row\n",
        "\n",
        "            curs.execute(inset_statement)\n",
        "        self.conn.commit()"
      ],
      "execution_count": 0,
      "outputs": []
    },
    {
      "cell_type": "markdown",
      "metadata": {
        "id": "TEaakf20Pz2m",
        "colab_type": "text"
      },
      "source": [
        "\n",
        "\n",
        "---\n",
        "\n"
      ]
    },
    {
      "cell_type": "markdown",
      "metadata": {
        "id": "XR49j1zvItTC",
        "colab_type": "text"
      },
      "source": [
        "# Create DataFrames"
      ]
    },
    {
      "cell_type": "markdown",
      "metadata": {
        "id": "EmXYvU-wWsB4",
        "colab_type": "text"
      },
      "source": [
        "## Branch \n",
        "- Branch ID\n",
        "- Location"
      ]
    },
    {
      "cell_type": "code",
      "metadata": {
        "id": "yoWWnjnnW6rH",
        "colab_type": "code",
        "colab": {}
      },
      "source": [
        "branch_ids = ['\\\"001\\\"', '\\\"002\\\"', '\\\"003\\\"', '\\\"004\\\"', '\\\"005\\\"', '\\\"006\\\"', '\\\"007\\\"']\n",
        "\n",
        "locations = ['\\\"Pacific_NW\\\"', '\\\"California\\\"', '\\\"West\\\"', '\\\"Texas_and_Southwest\\\"',\n",
        "             '\\\"South\\\"', '\\\"Midwest_and_Plains\\\"', '\\\"Northeast\\\"']"
      ],
      "execution_count": 0,
      "outputs": []
    },
    {
      "cell_type": "code",
      "metadata": {
        "id": "U7mW0Je5YjLx",
        "colab_type": "code",
        "outputId": "1bcf934e-3c06-48d2-bf12-507df2e0f2e1",
        "colab": {
          "base_uri": "https://localhost:8080/",
          "height": 204
        }
      },
      "source": [
        "branch = pd.DataFrame({\n",
        "                       'branch_id': branch_ids,\n",
        "                       'location': locations\n",
        "                      })\n",
        "branch.head()"
      ],
      "execution_count": 7,
      "outputs": [
        {
          "output_type": "execute_result",
          "data": {
            "text/html": [
              "<div>\n",
              "<style scoped>\n",
              "    .dataframe tbody tr th:only-of-type {\n",
              "        vertical-align: middle;\n",
              "    }\n",
              "\n",
              "    .dataframe tbody tr th {\n",
              "        vertical-align: top;\n",
              "    }\n",
              "\n",
              "    .dataframe thead th {\n",
              "        text-align: right;\n",
              "    }\n",
              "</style>\n",
              "<table border=\"1\" class=\"dataframe\">\n",
              "  <thead>\n",
              "    <tr style=\"text-align: right;\">\n",
              "      <th></th>\n",
              "      <th>branch_id</th>\n",
              "      <th>location</th>\n",
              "    </tr>\n",
              "  </thead>\n",
              "  <tbody>\n",
              "    <tr>\n",
              "      <th>0</th>\n",
              "      <td>\"001\"</td>\n",
              "      <td>\"Pacific_NW\"</td>\n",
              "    </tr>\n",
              "    <tr>\n",
              "      <th>1</th>\n",
              "      <td>\"002\"</td>\n",
              "      <td>\"California\"</td>\n",
              "    </tr>\n",
              "    <tr>\n",
              "      <th>2</th>\n",
              "      <td>\"003\"</td>\n",
              "      <td>\"West\"</td>\n",
              "    </tr>\n",
              "    <tr>\n",
              "      <th>3</th>\n",
              "      <td>\"004\"</td>\n",
              "      <td>\"Texas_and_Southwest\"</td>\n",
              "    </tr>\n",
              "    <tr>\n",
              "      <th>4</th>\n",
              "      <td>\"005\"</td>\n",
              "      <td>\"South\"</td>\n",
              "    </tr>\n",
              "  </tbody>\n",
              "</table>\n",
              "</div>"
            ],
            "text/plain": [
              "  branch_id               location\n",
              "0     \"001\"           \"Pacific_NW\"\n",
              "1     \"002\"           \"California\"\n",
              "2     \"003\"                 \"West\"\n",
              "3     \"004\"  \"Texas_and_Southwest\"\n",
              "4     \"005\"                \"South\""
            ]
          },
          "metadata": {
            "tags": []
          },
          "execution_count": 7
        }
      ]
    },
    {
      "cell_type": "code",
      "metadata": {
        "id": "tAuXm7e9ISjg",
        "colab_type": "code",
        "outputId": "4ccd40ab-6bee-4722-bfde-22ebdf1f6f69",
        "colab": {
          "base_uri": "https://localhost:8080/",
          "height": 107
        }
      },
      "source": [
        "print(pd.io.sql.get_schema(branch.reset_index(), 'Branch'))"
      ],
      "execution_count": 8,
      "outputs": [
        {
          "output_type": "stream",
          "text": [
            "CREATE TABLE \"Branch\" (\n",
            "\"index\" INTEGER,\n",
            "  \"branch_id\" TEXT,\n",
            "  \"location\" TEXT\n",
            ")\n"
          ],
          "name": "stdout"
        }
      ]
    },
    {
      "cell_type": "code",
      "metadata": {
        "id": "j6IYALb3Q25O",
        "colab_type": "code",
        "colab": {}
      },
      "source": [
        "branch_schema = \"\"\"\n",
        "CREATE TABLE Branch (\n",
        "    \"branch_id\" TEXT,\n",
        "    \"location\" TEXT,\n",
        "    PRIMARY KEY (branch_id)\n",
        ");\n",
        "\"\"\""
      ],
      "execution_count": 0,
      "outputs": []
    },
    {
      "cell_type": "markdown",
      "metadata": {
        "id": "sRqH0sDvHN76",
        "colab_type": "text"
      },
      "source": [
        "\n",
        "\n",
        "---\n",
        "\n"
      ]
    },
    {
      "cell_type": "markdown",
      "metadata": {
        "id": "XqAbq2bRWlpS",
        "colab_type": "text"
      },
      "source": [
        "## Headquarters\n",
        "- Headquarters ID\n",
        "- Headquarters City\n",
        "- Branch ID"
      ]
    },
    {
      "cell_type": "code",
      "metadata": {
        "id": "O5xZ_MqFXhfh",
        "colab_type": "code",
        "colab": {}
      },
      "source": [
        "headquarters_ids = ['\\\"011\\\"', '\\\"021\\\"', '\\\"031\\\"', '\\\"041\\\"', '\\\"051\\\"',\n",
        "                    '\\\"061\\\"', '\\\"071\\\"']\n",
        "                    \n",
        "headquarters_city = ['\\\"Seattle\\\"', '\\\"Los_Angeles\\\"', '\\\"Denver\\\"',\n",
        "                     '\\\"Dallas\\\"', '\\\"Atlanta\\\"', '\\\"Chicago\\\"', '\\\"New_York\\\"']\n",
        "# Key branch_ids"
      ],
      "execution_count": 0,
      "outputs": []
    },
    {
      "cell_type": "code",
      "metadata": {
        "id": "tHax5YEuZd4r",
        "colab_type": "code",
        "outputId": "ef56ba97-8f7c-4b37-e0a8-6818fb60777e",
        "colab": {
          "base_uri": "https://localhost:8080/",
          "height": 204
        }
      },
      "source": [
        "headquarters = pd.DataFrame({\n",
        "                       'headquarters_id': headquarters_ids,\n",
        "                       'headquarters_city': locations,\n",
        "                       'branch_id': branch_ids,\n",
        "                      })\n",
        "headquarters.head()"
      ],
      "execution_count": 11,
      "outputs": [
        {
          "output_type": "execute_result",
          "data": {
            "text/html": [
              "<div>\n",
              "<style scoped>\n",
              "    .dataframe tbody tr th:only-of-type {\n",
              "        vertical-align: middle;\n",
              "    }\n",
              "\n",
              "    .dataframe tbody tr th {\n",
              "        vertical-align: top;\n",
              "    }\n",
              "\n",
              "    .dataframe thead th {\n",
              "        text-align: right;\n",
              "    }\n",
              "</style>\n",
              "<table border=\"1\" class=\"dataframe\">\n",
              "  <thead>\n",
              "    <tr style=\"text-align: right;\">\n",
              "      <th></th>\n",
              "      <th>headquarters_id</th>\n",
              "      <th>headquarters_city</th>\n",
              "      <th>branch_id</th>\n",
              "    </tr>\n",
              "  </thead>\n",
              "  <tbody>\n",
              "    <tr>\n",
              "      <th>0</th>\n",
              "      <td>\"011\"</td>\n",
              "      <td>\"Pacific_NW\"</td>\n",
              "      <td>\"001\"</td>\n",
              "    </tr>\n",
              "    <tr>\n",
              "      <th>1</th>\n",
              "      <td>\"021\"</td>\n",
              "      <td>\"California\"</td>\n",
              "      <td>\"002\"</td>\n",
              "    </tr>\n",
              "    <tr>\n",
              "      <th>2</th>\n",
              "      <td>\"031\"</td>\n",
              "      <td>\"West\"</td>\n",
              "      <td>\"003\"</td>\n",
              "    </tr>\n",
              "    <tr>\n",
              "      <th>3</th>\n",
              "      <td>\"041\"</td>\n",
              "      <td>\"Texas_and_Southwest\"</td>\n",
              "      <td>\"004\"</td>\n",
              "    </tr>\n",
              "    <tr>\n",
              "      <th>4</th>\n",
              "      <td>\"051\"</td>\n",
              "      <td>\"South\"</td>\n",
              "      <td>\"005\"</td>\n",
              "    </tr>\n",
              "  </tbody>\n",
              "</table>\n",
              "</div>"
            ],
            "text/plain": [
              "  headquarters_id      headquarters_city branch_id\n",
              "0           \"011\"           \"Pacific_NW\"     \"001\"\n",
              "1           \"021\"           \"California\"     \"002\"\n",
              "2           \"031\"                 \"West\"     \"003\"\n",
              "3           \"041\"  \"Texas_and_Southwest\"     \"004\"\n",
              "4           \"051\"                \"South\"     \"005\""
            ]
          },
          "metadata": {
            "tags": []
          },
          "execution_count": 11
        }
      ]
    },
    {
      "cell_type": "code",
      "metadata": {
        "id": "tHFYouvTRJ-a",
        "colab_type": "code",
        "outputId": "8e420b21-2123-40fd-8698-0a09895069df",
        "colab": {
          "base_uri": "https://localhost:8080/",
          "height": 125
        }
      },
      "source": [
        "print(pd.io.sql.get_schema(headquarters.reset_index(), 'Headquarters'))"
      ],
      "execution_count": 12,
      "outputs": [
        {
          "output_type": "stream",
          "text": [
            "CREATE TABLE \"Headquarters\" (\n",
            "\"index\" INTEGER,\n",
            "  \"headquarters_id\" TEXT,\n",
            "  \"headquarters_city\" TEXT,\n",
            "  \"branch_id\" TEXT\n",
            ")\n"
          ],
          "name": "stdout"
        }
      ]
    },
    {
      "cell_type": "code",
      "metadata": {
        "id": "l5o0t5f7WU4m",
        "colab_type": "code",
        "colab": {}
      },
      "source": [
        "headquarters_schema = \"\"\"\n",
        "CREATE TABLE Headquarters (\n",
        "    \"headquarters_id\" TEXT,\n",
        "    \"headquarters_city\" TEXT,\n",
        "    \"branch_id\" TEXT ,\n",
        "    PRIMARY KEY (headquarters_id),\n",
        "    FOREIGN KEY (branch_id)\n",
        "        REFERENCES Branch (branch_id)\n",
        ");\n",
        "\"\"\""
      ],
      "execution_count": 0,
      "outputs": []
    },
    {
      "cell_type": "markdown",
      "metadata": {
        "id": "aongH6WMHPLS",
        "colab_type": "text"
      },
      "source": [
        "\n",
        "\n",
        "---\n",
        "\n"
      ]
    },
    {
      "cell_type": "markdown",
      "metadata": {
        "id": "Jzyau9u7WdVF",
        "colab_type": "text"
      },
      "source": [
        "## Order\n",
        "- Order ID\n",
        "- Order Date\n",
        "- Headquarters ID"
      ]
    },
    {
      "cell_type": "code",
      "metadata": {
        "id": "qSdkJs5WeaiN",
        "colab_type": "code",
        "colab": {}
      },
      "source": [
        "from random import randrange\n",
        "from datetime import timedelta\n",
        "from datetime import datetime\n",
        "\n",
        "\n",
        "def random_date(start, end):\n",
        "    \"\"\"\n",
        "    This function will return a random datetime between two datetime \n",
        "    objects.\n",
        "    \"\"\"\n",
        "    delta = end - start\n",
        "    int_delta = (delta.days * 24 * 60 * 60) + delta.seconds\n",
        "    random_second = randrange(int_delta)\n",
        "    return start + timedelta(seconds=random_second)\n",
        "\n",
        "\n",
        "d1 = datetime.strptime('1/1/2000 1:30 PM', '%m/%d/%Y %I:%M %p')\n",
        "d2 = datetime.strptime('1/1/2018 4:50 AM', '%m/%d/%Y %I:%M %p')"
      ],
      "execution_count": 0,
      "outputs": []
    },
    {
      "cell_type": "code",
      "metadata": {
        "id": "0kA4HwVDYUiD",
        "colab_type": "code",
        "colab": {}
      },
      "source": [
        "# 10000 orders\n",
        "order_ids = list(range(0, 10001))\n",
        "order_dates = [random_date(d1, d2) for i in range(len(order_ids))]\n",
        "headquarters_ids = [np.random.choice(headquarters_ids) for i in range(len(order_ids))]"
      ],
      "execution_count": 0,
      "outputs": []
    },
    {
      "cell_type": "code",
      "metadata": {
        "id": "q_3fSuiretOo",
        "colab_type": "code",
        "colab": {}
      },
      "source": [
        "orders = pd.DataFrame({\n",
        "                       'order_id': order_ids,\n",
        "                       'order_date': order_dates,\n",
        "                       'headquarters_id': headquarters_ids,\n",
        "                      })"
      ],
      "execution_count": 0,
      "outputs": []
    },
    {
      "cell_type": "code",
      "metadata": {
        "id": "-NdxBl87Mw7O",
        "colab_type": "code",
        "colab": {
          "base_uri": "https://localhost:8080/",
          "height": 204
        },
        "outputId": "29204f61-cc81-48d4-de50-a917ec3da4b5"
      },
      "source": [
        "orders['order_date'] = orders['order_date'].astype(str).str[:10]\n",
        "orders['order_date'] = pd.to_datetime(orders['order_date'], format = \"%Y/%m/%d\")\n",
        "orders['order_date'] = orders['order_date'].dt.date\n",
        "\n",
        "orders.head()"
      ],
      "execution_count": 17,
      "outputs": [
        {
          "output_type": "execute_result",
          "data": {
            "text/html": [
              "<div>\n",
              "<style scoped>\n",
              "    .dataframe tbody tr th:only-of-type {\n",
              "        vertical-align: middle;\n",
              "    }\n",
              "\n",
              "    .dataframe tbody tr th {\n",
              "        vertical-align: top;\n",
              "    }\n",
              "\n",
              "    .dataframe thead th {\n",
              "        text-align: right;\n",
              "    }\n",
              "</style>\n",
              "<table border=\"1\" class=\"dataframe\">\n",
              "  <thead>\n",
              "    <tr style=\"text-align: right;\">\n",
              "      <th></th>\n",
              "      <th>order_id</th>\n",
              "      <th>order_date</th>\n",
              "      <th>headquarters_id</th>\n",
              "    </tr>\n",
              "  </thead>\n",
              "  <tbody>\n",
              "    <tr>\n",
              "      <th>0</th>\n",
              "      <td>0</td>\n",
              "      <td>2014-09-22</td>\n",
              "      <td>\"051\"</td>\n",
              "    </tr>\n",
              "    <tr>\n",
              "      <th>1</th>\n",
              "      <td>1</td>\n",
              "      <td>2010-08-10</td>\n",
              "      <td>\"061\"</td>\n",
              "    </tr>\n",
              "    <tr>\n",
              "      <th>2</th>\n",
              "      <td>2</td>\n",
              "      <td>2001-05-02</td>\n",
              "      <td>\"041\"</td>\n",
              "    </tr>\n",
              "    <tr>\n",
              "      <th>3</th>\n",
              "      <td>3</td>\n",
              "      <td>2015-12-17</td>\n",
              "      <td>\"071\"</td>\n",
              "    </tr>\n",
              "    <tr>\n",
              "      <th>4</th>\n",
              "      <td>4</td>\n",
              "      <td>2012-10-31</td>\n",
              "      <td>\"051\"</td>\n",
              "    </tr>\n",
              "  </tbody>\n",
              "</table>\n",
              "</div>"
            ],
            "text/plain": [
              "   order_id  order_date headquarters_id\n",
              "0         0  2014-09-22           \"051\"\n",
              "1         1  2010-08-10           \"061\"\n",
              "2         2  2001-05-02           \"041\"\n",
              "3         3  2015-12-17           \"071\"\n",
              "4         4  2012-10-31           \"051\""
            ]
          },
          "metadata": {
            "tags": []
          },
          "execution_count": 17
        }
      ]
    },
    {
      "cell_type": "code",
      "metadata": {
        "id": "olJcTW7bVu1n",
        "colab_type": "code",
        "outputId": "0f0a8a14-d195-44a0-e625-c6c89a0f26e9",
        "colab": {
          "base_uri": "https://localhost:8080/",
          "height": 125
        }
      },
      "source": [
        "print(pd.io.sql.get_schema(orders.reset_index(), 'Order'))"
      ],
      "execution_count": 18,
      "outputs": [
        {
          "output_type": "stream",
          "text": [
            "CREATE TABLE \"Order\" (\n",
            "\"index\" INTEGER,\n",
            "  \"order_id\" INTEGER,\n",
            "  \"order_date\" DATE,\n",
            "  \"headquarters_id\" TEXT\n",
            ")\n"
          ],
          "name": "stdout"
        }
      ]
    },
    {
      "cell_type": "code",
      "metadata": {
        "id": "h6kU-qsjXJmW",
        "colab_type": "code",
        "colab": {}
      },
      "source": [
        "orders_schema = \"\"\"\n",
        "CREATE TABLE Orders (\n",
        "    \"order_id\" INTEGER,\n",
        "    \"order_date\" TIMESTAMP,\n",
        "    \"headquarters_id\" TEXT ,\n",
        "    PRIMARY KEY (order_id),\n",
        "    FOREIGN KEY (headquarters_id)\n",
        "        REFERENCES Headquarters(headquarters_id) \n",
        ");\n",
        "\"\"\""
      ],
      "execution_count": 0,
      "outputs": []
    },
    {
      "cell_type": "markdown",
      "metadata": {
        "id": "SrEIlD_uHSrL",
        "colab_type": "text"
      },
      "source": [
        "\n",
        "\n",
        "---\n",
        "\n"
      ]
    },
    {
      "cell_type": "markdown",
      "metadata": {
        "id": "hMeLLK7BWRTV",
        "colab_type": "text"
      },
      "source": [
        "## Order Detail\n",
        "- Order Detail ID\n",
        "- Product ID\n",
        "- Order ID\n",
        "- Product Quantity"
      ]
    },
    {
      "cell_type": "code",
      "metadata": {
        "id": "K2QG8qPYgF3y",
        "colab_type": "code",
        "colab": {}
      },
      "source": [
        "order_detail_ids = list(range(0, 10001))\n",
        "products = list(range(0, 301))\n",
        "product_ids = [np.random.choice(products) for i in range(len(order_detail_ids))] #200 product ID\n",
        "order_ids = list(range(0, 10001))\n",
        "product_quantity = [round(np.random.normal(50, 10, 1)[0]) for i in range(len(order_detail_ids))] # random normal distributions"
      ],
      "execution_count": 0,
      "outputs": []
    },
    {
      "cell_type": "code",
      "metadata": {
        "id": "621l9TdRjbOO",
        "colab_type": "code",
        "outputId": "74a759f2-23a3-4c2c-d893-892e9722112c",
        "colab": {
          "base_uri": "https://localhost:8080/",
          "height": 204
        }
      },
      "source": [
        "order_details = pd.DataFrame({\n",
        "                       'order_detail_id': order_detail_ids,\n",
        "                       'product_id': product_ids,\n",
        "                       'order_id': order_ids,\n",
        "                       'product_quantity': product_quantity\n",
        "                      })\n",
        "order_details.head()"
      ],
      "execution_count": 21,
      "outputs": [
        {
          "output_type": "execute_result",
          "data": {
            "text/html": [
              "<div>\n",
              "<style scoped>\n",
              "    .dataframe tbody tr th:only-of-type {\n",
              "        vertical-align: middle;\n",
              "    }\n",
              "\n",
              "    .dataframe tbody tr th {\n",
              "        vertical-align: top;\n",
              "    }\n",
              "\n",
              "    .dataframe thead th {\n",
              "        text-align: right;\n",
              "    }\n",
              "</style>\n",
              "<table border=\"1\" class=\"dataframe\">\n",
              "  <thead>\n",
              "    <tr style=\"text-align: right;\">\n",
              "      <th></th>\n",
              "      <th>order_detail_id</th>\n",
              "      <th>product_id</th>\n",
              "      <th>order_id</th>\n",
              "      <th>product_quantity</th>\n",
              "    </tr>\n",
              "  </thead>\n",
              "  <tbody>\n",
              "    <tr>\n",
              "      <th>0</th>\n",
              "      <td>0</td>\n",
              "      <td>143</td>\n",
              "      <td>0</td>\n",
              "      <td>67.0</td>\n",
              "    </tr>\n",
              "    <tr>\n",
              "      <th>1</th>\n",
              "      <td>1</td>\n",
              "      <td>123</td>\n",
              "      <td>1</td>\n",
              "      <td>44.0</td>\n",
              "    </tr>\n",
              "    <tr>\n",
              "      <th>2</th>\n",
              "      <td>2</td>\n",
              "      <td>70</td>\n",
              "      <td>2</td>\n",
              "      <td>39.0</td>\n",
              "    </tr>\n",
              "    <tr>\n",
              "      <th>3</th>\n",
              "      <td>3</td>\n",
              "      <td>174</td>\n",
              "      <td>3</td>\n",
              "      <td>47.0</td>\n",
              "    </tr>\n",
              "    <tr>\n",
              "      <th>4</th>\n",
              "      <td>4</td>\n",
              "      <td>54</td>\n",
              "      <td>4</td>\n",
              "      <td>42.0</td>\n",
              "    </tr>\n",
              "  </tbody>\n",
              "</table>\n",
              "</div>"
            ],
            "text/plain": [
              "   order_detail_id  product_id  order_id  product_quantity\n",
              "0                0         143         0              67.0\n",
              "1                1         123         1              44.0\n",
              "2                2          70         2              39.0\n",
              "3                3         174         3              47.0\n",
              "4                4          54         4              42.0"
            ]
          },
          "metadata": {
            "tags": []
          },
          "execution_count": 21
        }
      ]
    },
    {
      "cell_type": "code",
      "metadata": {
        "id": "DF5medr0Vxxw",
        "colab_type": "code",
        "outputId": "bdb40d5b-7fe6-46c1-84d8-530bb8a3d056",
        "colab": {
          "base_uri": "https://localhost:8080/",
          "height": 143
        }
      },
      "source": [
        "print(pd.io.sql.get_schema(order_details.reset_index(), 'Order Detail'))"
      ],
      "execution_count": 22,
      "outputs": [
        {
          "output_type": "stream",
          "text": [
            "CREATE TABLE \"Order Detail\" (\n",
            "\"index\" INTEGER,\n",
            "  \"order_detail_id\" INTEGER,\n",
            "  \"product_id\" INTEGER,\n",
            "  \"order_id\" INTEGER,\n",
            "  \"product_quantity\" REAL\n",
            ")\n"
          ],
          "name": "stdout"
        }
      ]
    },
    {
      "cell_type": "code",
      "metadata": {
        "id": "YVXTmi_VXyQ_",
        "colab_type": "code",
        "colab": {}
      },
      "source": [
        "order_detail_schema = \"\"\"\n",
        "CREATE TABLE Order_Detail (\n",
        "    \"order_detail_id\" INTEGER ,\n",
        "    \"product_id\" INTEGER ,\n",
        "    \"order_id\" INTEGER,\n",
        "    \"product_quantity\" REAL,\n",
        "    PRIMARY KEY (order_detail_id),\n",
        "    FOREIGN KEY (product_id)\n",
        "        REFERENCES Product(product_id),\n",
        "    FOREIGN KEY (order_id)\n",
        "        REFERENCES Orders(order_id)\n",
        ");\n",
        "\"\"\""
      ],
      "execution_count": 0,
      "outputs": []
    },
    {
      "cell_type": "markdown",
      "metadata": {
        "id": "pEwSZ7WaHWp7",
        "colab_type": "text"
      },
      "source": [
        "\n",
        "\n",
        "---\n",
        "\n"
      ]
    },
    {
      "cell_type": "markdown",
      "metadata": {
        "id": "-pXQxPPjWMpS",
        "colab_type": "text"
      },
      "source": [
        "## Product\n",
        "- Product id\n",
        "- Supplier ID"
      ]
    },
    {
      "cell_type": "code",
      "metadata": {
        "id": "vZuR09b-1oTZ",
        "colab_type": "code",
        "colab": {}
      },
      "source": [
        "suppliers = list(range(0, 40))\n",
        "\n",
        "products = list(range(0, 301))\n",
        "supplier_ids = [str(np.random.choice(suppliers)) for i in range(len(products))]"
      ],
      "execution_count": 0,
      "outputs": []
    },
    {
      "cell_type": "code",
      "metadata": {
        "id": "dftMfxQ02xaj",
        "colab_type": "code",
        "outputId": "5218141c-400c-40c8-c342-fa519a1bd2d6",
        "colab": {
          "base_uri": "https://localhost:8080/",
          "height": 204
        }
      },
      "source": [
        "products = pd.DataFrame({\n",
        "                       'product_id': products,\n",
        "                       'supplier_id': supplier_ids,\n",
        "                      })\n",
        "products.head()"
      ],
      "execution_count": 25,
      "outputs": [
        {
          "output_type": "execute_result",
          "data": {
            "text/html": [
              "<div>\n",
              "<style scoped>\n",
              "    .dataframe tbody tr th:only-of-type {\n",
              "        vertical-align: middle;\n",
              "    }\n",
              "\n",
              "    .dataframe tbody tr th {\n",
              "        vertical-align: top;\n",
              "    }\n",
              "\n",
              "    .dataframe thead th {\n",
              "        text-align: right;\n",
              "    }\n",
              "</style>\n",
              "<table border=\"1\" class=\"dataframe\">\n",
              "  <thead>\n",
              "    <tr style=\"text-align: right;\">\n",
              "      <th></th>\n",
              "      <th>product_id</th>\n",
              "      <th>supplier_id</th>\n",
              "    </tr>\n",
              "  </thead>\n",
              "  <tbody>\n",
              "    <tr>\n",
              "      <th>0</th>\n",
              "      <td>0</td>\n",
              "      <td>30</td>\n",
              "    </tr>\n",
              "    <tr>\n",
              "      <th>1</th>\n",
              "      <td>1</td>\n",
              "      <td>11</td>\n",
              "    </tr>\n",
              "    <tr>\n",
              "      <th>2</th>\n",
              "      <td>2</td>\n",
              "      <td>25</td>\n",
              "    </tr>\n",
              "    <tr>\n",
              "      <th>3</th>\n",
              "      <td>3</td>\n",
              "      <td>0</td>\n",
              "    </tr>\n",
              "    <tr>\n",
              "      <th>4</th>\n",
              "      <td>4</td>\n",
              "      <td>14</td>\n",
              "    </tr>\n",
              "  </tbody>\n",
              "</table>\n",
              "</div>"
            ],
            "text/plain": [
              "   product_id supplier_id\n",
              "0           0          30\n",
              "1           1          11\n",
              "2           2          25\n",
              "3           3           0\n",
              "4           4          14"
            ]
          },
          "metadata": {
            "tags": []
          },
          "execution_count": 25
        }
      ]
    },
    {
      "cell_type": "code",
      "metadata": {
        "id": "FOb7V9P5Vytz",
        "colab_type": "code",
        "outputId": "0bcae91d-f514-49fd-e2f2-7f08356c4184",
        "colab": {
          "base_uri": "https://localhost:8080/",
          "height": 107
        }
      },
      "source": [
        "print(pd.io.sql.get_schema(products.reset_index(), 'Product'))"
      ],
      "execution_count": 26,
      "outputs": [
        {
          "output_type": "stream",
          "text": [
            "CREATE TABLE \"Product\" (\n",
            "\"index\" INTEGER,\n",
            "  \"product_id\" INTEGER,\n",
            "  \"supplier_id\" TEXT\n",
            ")\n"
          ],
          "name": "stdout"
        }
      ]
    },
    {
      "cell_type": "code",
      "metadata": {
        "id": "ZF9384iuY6d5",
        "colab_type": "code",
        "colab": {}
      },
      "source": [
        "product_schema = \"\"\"\n",
        "CREATE TABLE Product (\n",
        "    \"product_id\" INTEGER,\n",
        "    \"supplier_id\" TEXT ,\n",
        "    PRIMARY KEY (product_id),\n",
        "    FOREIGN KEY (supplier_id)\n",
        "        REFERENCES Supplier(supplier_id) \n",
        ");\n",
        "\"\"\""
      ],
      "execution_count": 0,
      "outputs": []
    },
    {
      "cell_type": "markdown",
      "metadata": {
        "id": "uEfO3ozBHZgx",
        "colab_type": "text"
      },
      "source": [
        "\n",
        "\n",
        "---\n",
        "\n"
      ]
    },
    {
      "cell_type": "markdown",
      "metadata": {
        "id": "-AdiLeXwWDzR",
        "colab_type": "text"
      },
      "source": [
        "## Order Detail Delivery\n",
        "- Delivery id\n",
        "- Order id\n",
        "- Order Detail ID"
      ]
    },
    {
      "cell_type": "code",
      "metadata": {
        "id": "LZu9H9th4VJ3",
        "colab_type": "code",
        "colab": {}
      },
      "source": [
        "delivery_ids = list(range(0, 10001))\n",
        "order_ids = list(range(0, 10001))\n",
        "order_detail_ids = list(range(0, 10001))"
      ],
      "execution_count": 0,
      "outputs": []
    },
    {
      "cell_type": "code",
      "metadata": {
        "id": "ehRx4SRF6ePj",
        "colab_type": "code",
        "outputId": "f3c05950-61e4-4d8e-fcf9-879b27fb282c",
        "colab": {
          "base_uri": "https://localhost:8080/",
          "height": 204
        }
      },
      "source": [
        "order_detail_delivery = pd.DataFrame({\n",
        "                       'delivery_id': delivery_ids,\n",
        "                       'order_id': order_ids,\n",
        "                       'order_detail id': order_detail_ids\n",
        "                      })\n",
        "order_detail_delivery.head()"
      ],
      "execution_count": 29,
      "outputs": [
        {
          "output_type": "execute_result",
          "data": {
            "text/html": [
              "<div>\n",
              "<style scoped>\n",
              "    .dataframe tbody tr th:only-of-type {\n",
              "        vertical-align: middle;\n",
              "    }\n",
              "\n",
              "    .dataframe tbody tr th {\n",
              "        vertical-align: top;\n",
              "    }\n",
              "\n",
              "    .dataframe thead th {\n",
              "        text-align: right;\n",
              "    }\n",
              "</style>\n",
              "<table border=\"1\" class=\"dataframe\">\n",
              "  <thead>\n",
              "    <tr style=\"text-align: right;\">\n",
              "      <th></th>\n",
              "      <th>delivery_id</th>\n",
              "      <th>order_id</th>\n",
              "      <th>order_detail id</th>\n",
              "    </tr>\n",
              "  </thead>\n",
              "  <tbody>\n",
              "    <tr>\n",
              "      <th>0</th>\n",
              "      <td>0</td>\n",
              "      <td>0</td>\n",
              "      <td>0</td>\n",
              "    </tr>\n",
              "    <tr>\n",
              "      <th>1</th>\n",
              "      <td>1</td>\n",
              "      <td>1</td>\n",
              "      <td>1</td>\n",
              "    </tr>\n",
              "    <tr>\n",
              "      <th>2</th>\n",
              "      <td>2</td>\n",
              "      <td>2</td>\n",
              "      <td>2</td>\n",
              "    </tr>\n",
              "    <tr>\n",
              "      <th>3</th>\n",
              "      <td>3</td>\n",
              "      <td>3</td>\n",
              "      <td>3</td>\n",
              "    </tr>\n",
              "    <tr>\n",
              "      <th>4</th>\n",
              "      <td>4</td>\n",
              "      <td>4</td>\n",
              "      <td>4</td>\n",
              "    </tr>\n",
              "  </tbody>\n",
              "</table>\n",
              "</div>"
            ],
            "text/plain": [
              "   delivery_id  order_id  order_detail id\n",
              "0            0         0                0\n",
              "1            1         1                1\n",
              "2            2         2                2\n",
              "3            3         3                3\n",
              "4            4         4                4"
            ]
          },
          "metadata": {
            "tags": []
          },
          "execution_count": 29
        }
      ]
    },
    {
      "cell_type": "code",
      "metadata": {
        "id": "2YnxhSYoVzgJ",
        "colab_type": "code",
        "outputId": "6e27eb45-d6bd-45f2-e534-687f493a1dc9",
        "colab": {
          "base_uri": "https://localhost:8080/",
          "height": 181
        }
      },
      "source": [
        "print(pd.io.sql.get_schema(order_detail_delivery.reset_index(), 'Order Detail Delivery'))"
      ],
      "execution_count": 30,
      "outputs": [
        {
          "output_type": "stream",
          "text": [
            "CREATE TABLE \"Order Detail Delivery\" (\n",
            "\"index\" INTEGER,\n",
            "  \"delivery_id\" INTEGER,\n",
            "  \"order_id\" INTEGER,\n",
            "  \"order_detail id\" INTEGER\n",
            ")\n"
          ],
          "name": "stdout"
        },
        {
          "output_type": "stream",
          "text": [
            "/usr/local/lib/python3.6/dist-packages/ipykernel_launcher.py:1: UserWarning: The spaces in these column names will not be changed. In pandas versions < 0.14, spaces were converted to underscores.\n",
            "  \"\"\"Entry point for launching an IPython kernel.\n"
          ],
          "name": "stderr"
        }
      ]
    },
    {
      "cell_type": "code",
      "metadata": {
        "id": "bGgz7hNQZdta",
        "colab_type": "code",
        "colab": {}
      },
      "source": [
        "order_detail_delivery_schema = \"\"\"\n",
        "CREATE TABLE Order_Detail_Delivery (\n",
        "    \"delivery_id\" INTEGER ,\n",
        "    \"order_id\" INTEGER ,\n",
        "    \"order_detail_id\" INTEGER,\n",
        "    PRIMARY KEY (order_detail_id),\n",
        "    FOREIGN KEY (delivery_id)\n",
        "        REFERENCES Delivery(delivery_id),\n",
        "    FOREIGN KEY (order_id)\n",
        "        REFERENCES Orders(order_id)\n",
        ");\n",
        "\"\"\""
      ],
      "execution_count": 0,
      "outputs": []
    },
    {
      "cell_type": "markdown",
      "metadata": {
        "id": "FUKYSy3IHcG7",
        "colab_type": "text"
      },
      "source": [
        "\n",
        "\n",
        "---\n",
        "\n"
      ]
    },
    {
      "cell_type": "markdown",
      "metadata": {
        "id": "PkkNTdRpV4Hc",
        "colab_type": "text"
      },
      "source": [
        "## Delivery\n",
        "- Delivery ID\n",
        "- Delivery Date\n",
        "- Supplier ID"
      ]
    },
    {
      "cell_type": "code",
      "metadata": {
        "id": "914z1_FT_FrJ",
        "colab_type": "code",
        "colab": {}
      },
      "source": [
        "delivery_ids = list(range(0, 10001))\n",
        "\n",
        "delivery_dates = orders['order_date']\\\n",
        "    .apply(lambda x:\\\n",
        "           x + timedelta(days= int(round(np.random.normal(10, 3, 1)[0]))))\n",
        "\n",
        "df = order_details.set_index('product_id').join(products.set_index('product_id'))\n",
        "df = df.sort_values(by = 'order_id')\n",
        "\n",
        "supplier_ids = df['supplier_id'].tolist()"
      ],
      "execution_count": 0,
      "outputs": []
    },
    {
      "cell_type": "code",
      "metadata": {
        "id": "4KhRw8J6Dh7f",
        "colab_type": "code",
        "outputId": "12a23306-93f5-4ad4-d7cf-a3a5ad237ddc",
        "colab": {
          "base_uri": "https://localhost:8080/",
          "height": 204
        }
      },
      "source": [
        "delivery = pd.DataFrame({\n",
        "                       'delivery_id': delivery_ids,\n",
        "                       'delivery_date': delivery_dates,\n",
        "                       'supplier_id': supplier_ids\n",
        "                      })\n",
        "\n",
        "delivery['delivery_date'] = delivery['delivery_date'].astype(str).str[:10]\n",
        "delivery['delivery_date'] = pd.to_datetime(delivery['delivery_date'], format = \"%Y/%m/%d\")\n",
        "delivery['delivery_date'] = delivery['delivery_date'].dt.date\n",
        "\n",
        "delivery.head()"
      ],
      "execution_count": 33,
      "outputs": [
        {
          "output_type": "execute_result",
          "data": {
            "text/html": [
              "<div>\n",
              "<style scoped>\n",
              "    .dataframe tbody tr th:only-of-type {\n",
              "        vertical-align: middle;\n",
              "    }\n",
              "\n",
              "    .dataframe tbody tr th {\n",
              "        vertical-align: top;\n",
              "    }\n",
              "\n",
              "    .dataframe thead th {\n",
              "        text-align: right;\n",
              "    }\n",
              "</style>\n",
              "<table border=\"1\" class=\"dataframe\">\n",
              "  <thead>\n",
              "    <tr style=\"text-align: right;\">\n",
              "      <th></th>\n",
              "      <th>delivery_id</th>\n",
              "      <th>delivery_date</th>\n",
              "      <th>supplier_id</th>\n",
              "    </tr>\n",
              "  </thead>\n",
              "  <tbody>\n",
              "    <tr>\n",
              "      <th>0</th>\n",
              "      <td>0</td>\n",
              "      <td>2014-09-29</td>\n",
              "      <td>35</td>\n",
              "    </tr>\n",
              "    <tr>\n",
              "      <th>1</th>\n",
              "      <td>1</td>\n",
              "      <td>2010-08-19</td>\n",
              "      <td>14</td>\n",
              "    </tr>\n",
              "    <tr>\n",
              "      <th>2</th>\n",
              "      <td>2</td>\n",
              "      <td>2001-05-08</td>\n",
              "      <td>17</td>\n",
              "    </tr>\n",
              "    <tr>\n",
              "      <th>3</th>\n",
              "      <td>3</td>\n",
              "      <td>2015-12-30</td>\n",
              "      <td>18</td>\n",
              "    </tr>\n",
              "    <tr>\n",
              "      <th>4</th>\n",
              "      <td>4</td>\n",
              "      <td>2012-11-10</td>\n",
              "      <td>24</td>\n",
              "    </tr>\n",
              "  </tbody>\n",
              "</table>\n",
              "</div>"
            ],
            "text/plain": [
              "   delivery_id delivery_date supplier_id\n",
              "0            0    2014-09-29          35\n",
              "1            1    2010-08-19          14\n",
              "2            2    2001-05-08          17\n",
              "3            3    2015-12-30          18\n",
              "4            4    2012-11-10          24"
            ]
          },
          "metadata": {
            "tags": []
          },
          "execution_count": 33
        }
      ]
    },
    {
      "cell_type": "code",
      "metadata": {
        "id": "2E25X4q3V0Zl",
        "colab_type": "code",
        "outputId": "e1661d3d-c81a-4c9a-f23b-ba2560ce367a",
        "colab": {
          "base_uri": "https://localhost:8080/",
          "height": 125
        }
      },
      "source": [
        "print(pd.io.sql.get_schema(delivery.reset_index(), 'Delivery'))"
      ],
      "execution_count": 34,
      "outputs": [
        {
          "output_type": "stream",
          "text": [
            "CREATE TABLE \"Delivery\" (\n",
            "\"index\" INTEGER,\n",
            "  \"delivery_id\" INTEGER,\n",
            "  \"delivery_date\" DATE,\n",
            "  \"supplier_id\" TEXT\n",
            ")\n"
          ],
          "name": "stdout"
        }
      ]
    },
    {
      "cell_type": "code",
      "metadata": {
        "id": "FyURUen2aBhx",
        "colab_type": "code",
        "colab": {}
      },
      "source": [
        "delivery_schema = \"\"\"\n",
        "CREATE TABLE Delivery (\n",
        "    \"delivery_id\" INTEGER,\n",
        "    \"delivery_date\" TIMESTAMP,\n",
        "    \"supplier_id\" TEXT,\n",
        "    PRIMARY KEY (delivery_id),\n",
        "    FOREIGN KEY (supplier_id)\n",
        "        REFERENCES Supplier(supplier_id)\n",
        ");\n",
        "\"\"\""
      ],
      "execution_count": 0,
      "outputs": []
    },
    {
      "cell_type": "markdown",
      "metadata": {
        "id": "tJ3iqGOAHfAO",
        "colab_type": "text"
      },
      "source": [
        "\n",
        "\n",
        "---\n",
        "\n"
      ]
    },
    {
      "cell_type": "markdown",
      "metadata": {
        "colab_type": "text",
        "id": "NwtmuZBYHfMd"
      },
      "source": [
        "## Supplier\n",
        "- Delivery ID\n",
        "- Delivery Date\n",
        "- Supplier ID"
      ]
    },
    {
      "cell_type": "code",
      "metadata": {
        "id": "xhE5tILkHNXR",
        "colab_type": "code",
        "outputId": "3120f813-bcce-4f66-a0b1-23ef2c66f3ef",
        "colab": {
          "base_uri": "https://localhost:8080/",
          "height": 204
        }
      },
      "source": [
        "suppliers = list(set(delivery['supplier_id'].tolist()))\n",
        "supplier_locations = [np.random.choice(headquarters_city) for i in range(len(suppliers))]\n",
        "\n",
        "supplier = pd.DataFrame({'supplier_id': suppliers,\n",
        "                         'location': supplier_locations})\n",
        "\n",
        "supplier = supplier.sort_values(by = 'supplier_id')\n",
        "supplier.head()"
      ],
      "execution_count": 36,
      "outputs": [
        {
          "output_type": "execute_result",
          "data": {
            "text/html": [
              "<div>\n",
              "<style scoped>\n",
              "    .dataframe tbody tr th:only-of-type {\n",
              "        vertical-align: middle;\n",
              "    }\n",
              "\n",
              "    .dataframe tbody tr th {\n",
              "        vertical-align: top;\n",
              "    }\n",
              "\n",
              "    .dataframe thead th {\n",
              "        text-align: right;\n",
              "    }\n",
              "</style>\n",
              "<table border=\"1\" class=\"dataframe\">\n",
              "  <thead>\n",
              "    <tr style=\"text-align: right;\">\n",
              "      <th></th>\n",
              "      <th>supplier_id</th>\n",
              "      <th>location</th>\n",
              "    </tr>\n",
              "  </thead>\n",
              "  <tbody>\n",
              "    <tr>\n",
              "      <th>14</th>\n",
              "      <td>0</td>\n",
              "      <td>\"New_York\"</td>\n",
              "    </tr>\n",
              "    <tr>\n",
              "      <th>33</th>\n",
              "      <td>1</td>\n",
              "      <td>\"Atlanta\"</td>\n",
              "    </tr>\n",
              "    <tr>\n",
              "      <th>17</th>\n",
              "      <td>10</td>\n",
              "      <td>\"Denver\"</td>\n",
              "    </tr>\n",
              "    <tr>\n",
              "      <th>6</th>\n",
              "      <td>11</td>\n",
              "      <td>\"Dallas\"</td>\n",
              "    </tr>\n",
              "    <tr>\n",
              "      <th>31</th>\n",
              "      <td>12</td>\n",
              "      <td>\"Atlanta\"</td>\n",
              "    </tr>\n",
              "  </tbody>\n",
              "</table>\n",
              "</div>"
            ],
            "text/plain": [
              "   supplier_id    location\n",
              "14           0  \"New_York\"\n",
              "33           1   \"Atlanta\"\n",
              "17          10    \"Denver\"\n",
              "6           11    \"Dallas\"\n",
              "31          12   \"Atlanta\""
            ]
          },
          "metadata": {
            "tags": []
          },
          "execution_count": 36
        }
      ]
    },
    {
      "cell_type": "code",
      "metadata": {
        "id": "Dn2knBQ0IIDH",
        "colab_type": "code",
        "outputId": "c3db4de8-bc5e-4b1c-8958-24282fdb8602",
        "colab": {
          "base_uri": "https://localhost:8080/",
          "height": 107
        }
      },
      "source": [
        "print(pd.io.sql.get_schema(supplier.reset_index(), 'Supplier'))"
      ],
      "execution_count": 37,
      "outputs": [
        {
          "output_type": "stream",
          "text": [
            "CREATE TABLE \"Supplier\" (\n",
            "\"index\" INTEGER,\n",
            "  \"supplier_id\" TEXT,\n",
            "  \"location\" TEXT\n",
            ")\n"
          ],
          "name": "stdout"
        }
      ]
    },
    {
      "cell_type": "code",
      "metadata": {
        "id": "c3o0d8xyagj8",
        "colab_type": "code",
        "colab": {}
      },
      "source": [
        "supplier_schema = \"\"\"\n",
        "CREATE TABLE Supplier (\n",
        "    \"supplier_id\" TEXT,\n",
        "    \"location\" TEXT,\n",
        "    PRIMARY KEY (supplier_id)\n",
        ");\n",
        "\"\"\""
      ],
      "execution_count": 0,
      "outputs": []
    },
    {
      "cell_type": "markdown",
      "metadata": {
        "id": "n1GthDxRbVDo",
        "colab_type": "text"
      },
      "source": [
        "\n",
        "\n",
        "---\n",
        "\n"
      ]
    },
    {
      "cell_type": "markdown",
      "metadata": {
        "id": "7ebae96ZbVpk",
        "colab_type": "text"
      },
      "source": [
        "# Execute DB Creation"
      ]
    },
    {
      "cell_type": "code",
      "metadata": {
        "id": "n7dMFcqtbiEl",
        "colab_type": "code",
        "outputId": "1216ecd5-6473-4cc3-c8d7-10271faf957f",
        "colab": {
          "base_uri": "https://localhost:8080/",
          "height": 1000
        }
      },
      "source": [
        "dataframe_list = [branch, headquarters, orders, order_details, products,\n",
        "                  order_detail_delivery, delivery, supplier]\n",
        "\n",
        "table_names = ['Branch', 'Headquarters', 'Orders', 'Order_Detail', 'Product',\n",
        "               'Order_Detail_Delivery', 'Delivery', 'Supplier']\n",
        "\n",
        "schemas = [branch_schema, headquarters_schema, orders_schema,\n",
        "           order_detail_schema, product_schema, order_detail_delivery_schema,\n",
        "           delivery_schema, supplier_schema]\n",
        "\n",
        "for i in range(len(table_names)):\n",
        "    print(schemas[i])\n",
        "    helper = Sqllite_helper()\n",
        "    helper.create_table(schemas[i], dataframe_list[i], table_names[i])\n",
        "    print(table_names[i], ' Done')"
      ],
      "execution_count": 39,
      "outputs": [
        {
          "output_type": "stream",
          "text": [
            "\n",
            "CREATE TABLE Branch (\n",
            "    \"branch_id\" TEXT,\n",
            "    \"location\" TEXT,\n",
            "    PRIMARY KEY (branch_id)\n",
            ");\n",
            "\n",
            "Branch  Done\n",
            "\n",
            "CREATE TABLE Headquarters (\n",
            "    \"headquarters_id\" TEXT,\n",
            "    \"headquarters_city\" TEXT,\n",
            "    \"branch_id\" TEXT ,\n",
            "    PRIMARY KEY (headquarters_id),\n",
            "    FOREIGN KEY (branch_id)\n",
            "        REFERENCES Branch (branch_id)\n",
            ");\n",
            "\n",
            "Headquarters  Done\n",
            "\n",
            "CREATE TABLE Orders (\n",
            "    \"order_id\" INTEGER,\n",
            "    \"order_date\" TIMESTAMP,\n",
            "    \"headquarters_id\" TEXT ,\n",
            "    PRIMARY KEY (order_id),\n",
            "    FOREIGN KEY (headquarters_id)\n",
            "        REFERENCES Headquarters(headquarters_id) \n",
            ");\n",
            "\n",
            "Orders  Done\n",
            "\n",
            "CREATE TABLE Order_Detail (\n",
            "    \"order_detail_id\" INTEGER ,\n",
            "    \"product_id\" INTEGER ,\n",
            "    \"order_id\" INTEGER,\n",
            "    \"product_quantity\" REAL,\n",
            "    PRIMARY KEY (order_detail_id),\n",
            "    FOREIGN KEY (product_id)\n",
            "        REFERENCES Product(product_id),\n",
            "    FOREIGN KEY (order_id)\n",
            "        REFERENCES Orders(order_id)\n",
            ");\n",
            "\n",
            "Order_Detail  Done\n",
            "\n",
            "CREATE TABLE Product (\n",
            "    \"product_id\" INTEGER,\n",
            "    \"supplier_id\" TEXT ,\n",
            "    PRIMARY KEY (product_id),\n",
            "    FOREIGN KEY (supplier_id)\n",
            "        REFERENCES Supplier(supplier_id) \n",
            ");\n",
            "\n",
            "Product  Done\n",
            "\n",
            "CREATE TABLE Order_Detail_Delivery (\n",
            "    \"delivery_id\" INTEGER ,\n",
            "    \"order_id\" INTEGER ,\n",
            "    \"order_detail_id\" INTEGER,\n",
            "    PRIMARY KEY (order_detail_id),\n",
            "    FOREIGN KEY (delivery_id)\n",
            "        REFERENCES Delivery(delivery_id),\n",
            "    FOREIGN KEY (order_id)\n",
            "        REFERENCES Orders(order_id)\n",
            ");\n",
            "\n",
            "Order_Detail_Delivery  Done\n",
            "\n",
            "CREATE TABLE Delivery (\n",
            "    \"delivery_id\" INTEGER,\n",
            "    \"delivery_date\" TIMESTAMP,\n",
            "    \"supplier_id\" TEXT,\n",
            "    PRIMARY KEY (delivery_id),\n",
            "    FOREIGN KEY (supplier_id)\n",
            "        REFERENCES Supplier(supplier_id)\n",
            ");\n",
            "\n",
            "Delivery  Done\n",
            "\n",
            "CREATE TABLE Supplier (\n",
            "    \"supplier_id\" TEXT,\n",
            "    \"location\" TEXT,\n",
            "    PRIMARY KEY (supplier_id)\n",
            ");\n",
            "\n",
            "Supplier  Done\n"
          ],
          "name": "stdout"
        }
      ]
    },
    {
      "cell_type": "code",
      "metadata": {
        "id": "nH9_i031LooQ",
        "colab_type": "code",
        "colab": {}
      },
      "source": [
        ""
      ],
      "execution_count": 0,
      "outputs": []
    }
  ]
}